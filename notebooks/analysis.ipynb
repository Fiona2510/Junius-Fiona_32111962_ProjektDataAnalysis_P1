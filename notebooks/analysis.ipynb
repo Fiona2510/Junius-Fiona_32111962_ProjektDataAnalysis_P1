{
 "cells": [
  {
   "cell_type": "markdown",
   "id": "c171dc24",
   "metadata": {},
   "source": [
    "# Analyse TripAdvisor Hotelbewertungen (DuckDB + NLP)"
   ]
  },
  {
   "cell_type": "markdown",
   "id": "3a76a361",
   "metadata": {},
   "source": [
    "## Datenquelle via DuckDB\n",
    "Dieses Notebook kann den Datensatz direkt aus DuckDB lesen (empfohlen bei größeren CSVs)."
   ]
  },
  {
   "cell_type": "code",
   "execution_count": null,
   "id": "f1543c80",
   "metadata": {},
   "outputs": [],
   "source": [
    "\n",
    "# Bootstrap: CSV -> DuckDB (einmalig)\n",
    "from pathlib import Path\n",
    "from src.data_store import bootstrap_from_csv, get_text_and_rating, DEFAULT_DB\n",
    "csv_path = \"data/tripadvisor_hotel_reviews.csv\"\n",
    "if not Path(DEFAULT_DB).exists():\n",
    "    bootstrap_from_csv(csv_path)\n",
    "df_raw = get_text_and_rating()\n",
    "df_raw.head()\n"
   ]
  },
  {
   "cell_type": "code",
   "execution_count": null,
   "id": "d4197b72",
   "metadata": {},
   "outputs": [],
   "source": [
    "\n",
    "# Weiterverarbeitung wie bisher\n",
    "from src.preprocessing import clean_text\n",
    "df = df_raw.copy()\n",
    "df[\"clean_review\"] = df.iloc[:,0].astype(str).apply(clean_text)\n",
    "df.head()\n"
   ]
  }
 ],
 "metadata": {},
 "nbformat": 4,
 "nbformat_minor": 5
}
