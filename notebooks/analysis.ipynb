{
 "cells": [
  {
   "cell_type": "markdown",
   "id": "c171dc24",
   "metadata": {},
   "source": [
    "# Analyse TripAdvisor Hotelbewertungen (DuckDB + NLP)"
   ]
  },
  {
   "cell_type": "markdown",
   "id": "3a76a361",
   "metadata": {},
   "source": [
    "## Datenquelle via DuckDB\n",
    "Dieses Notebook kann den Datensatz direkt aus DuckDB lesen (empfohlen bei größeren CSVs)."
   ]
  },
  {
   "cell_type": "code",
   "execution_count": 10,
   "id": "02fb108d",
   "metadata": {},
   "outputs": [
    {
     "name": "stdout",
     "output_type": "stream",
     "text": [
      "PROJECT_ROOT: C:\\Users\\FJU\\Desktop\\FJ\\UNI\\Data Analysis\\Junius-Fiona_ProjektDataAnalysis_P1_repo_duckdb\\Junius-Fiona_32111962_ProjektDataAnalysis_P1\n",
      "DB_PATH     : C:\\Users\\FJU\\Desktop\\FJ\\UNI\\Data Analysis\\Junius-Fiona_ProjektDataAnalysis_P1_repo_duckdb\\Junius-Fiona_32111962_ProjektDataAnalysis_P1\\data\\tripadvisor.duckdb\n",
      "CSV_PATH    : C:\\Users\\FJU\\Desktop\\FJ\\UNI\\Data Analysis\\Junius-Fiona_ProjektDataAnalysis_P1_repo_duckdb\\Junius-Fiona_32111962_ProjektDataAnalysis_P1\\data\\tripadvisor_hotel_reviews.csv\n",
      "REPORTS     : C:\\Users\\FJU\\Desktop\\FJ\\UNI\\Data Analysis\\Junius-Fiona_ProjektDataAnalysis_P1_repo_duckdb\\Junius-Fiona_32111962_ProjektDataAnalysis_P1\\reports\n"
     ]
    }
   ],
   "source": [
    "# 1) Projektpfade & sys.path konfigurieren\n",
    "from pathlib import Path\n",
    "import sys\n",
    "\n",
    "cwd = Path.cwd()\n",
    "# Wenn Notebook in ./notebooks liegt, ist der Projekt-Root der Parent\n",
    "PROJECT_ROOT = cwd.parent if cwd.name.lower() == \"notebooks\" else (cwd if (cwd / \"src\").exists() else cwd.parent)\n",
    "\n",
    "# src auffindbar machen\n",
    "sys.path.insert(0, str(PROJECT_ROOT))\n",
    "\n",
    "DB_PATH  = PROJECT_ROOT / \"data\" / \"tripadvisor.duckdb\"\n",
    "CSV_PATH = PROJECT_ROOT / \"data\" / \"tripadvisor_hotel_reviews.csv\"\n",
    "REPORTS  = PROJECT_ROOT / \"reports\"\n",
    "\n",
    "(PROJECT_ROOT / \"data\").mkdir(exist_ok=True, parents=True)\n",
    "REPORTS.mkdir(exist_ok=True, parents=True)\n",
    "\n",
    "print(\"PROJECT_ROOT:\", PROJECT_ROOT)\n",
    "print(\"DB_PATH     :\", DB_PATH)\n",
    "print(\"CSV_PATH    :\", CSV_PATH)\n",
    "print(\"REPORTS     :\", REPORTS)\n"
   ]
  },
  {
   "cell_type": "code",
   "execution_count": 11,
   "id": "044471e1-94c6-462e-92ed-46be7248e220",
   "metadata": {},
   "outputs": [
    {
     "name": "stdout",
     "output_type": "stream",
     "text": [
      "Python    : 3.11.2\n",
      "pandas    : 2.3.2\n",
      "numpy     : 1.26.4\n",
      "sklearn   : 1.7.1\n",
      "gensim    : 4.3.3\n",
      "nltk      : 3.9.1\n",
      "duckdb    : 1.3.2\n",
      "matplotlib: 3.10.5\n"
     ]
    }
   ],
   "source": [
    "import platform, pandas as pd, numpy as np, sklearn as sk, gensim, nltk, duckdb, matplotlib\n",
    "print(\"Python    :\", platform.python_version())\n",
    "print(\"pandas    :\", pd.__version__)\n",
    "print(\"numpy     :\", np.__version__)\n",
    "print(\"sklearn   :\", sk.__version__)\n",
    "print(\"gensim    :\", gensim.__version__)\n",
    "print(\"nltk      :\", nltk.__version__)\n",
    "print(\"duckdb    :\", duckdb.__version__)\n",
    "print(\"matplotlib:\", matplotlib.__version__)\n"
   ]
  },
  {
   "cell_type": "code",
   "execution_count": 12,
   "id": "58663bb7-014b-4255-b1f5-d3bae6b074b4",
   "metadata": {},
   "outputs": [
    {
     "data": {
      "text/html": [
       "<div>\n",
       "<style scoped>\n",
       "    .dataframe tbody tr th:only-of-type {\n",
       "        vertical-align: middle;\n",
       "    }\n",
       "\n",
       "    .dataframe tbody tr th {\n",
       "        vertical-align: top;\n",
       "    }\n",
       "\n",
       "    .dataframe thead th {\n",
       "        text-align: right;\n",
       "    }\n",
       "</style>\n",
       "<table border=\"1\" class=\"dataframe\">\n",
       "  <thead>\n",
       "    <tr style=\"text-align: right;\">\n",
       "      <th></th>\n",
       "      <th>Review</th>\n",
       "      <th>Rating</th>\n",
       "    </tr>\n",
       "  </thead>\n",
       "  <tbody>\n",
       "    <tr>\n",
       "      <th>0</th>\n",
       "      <td>ok nothing special charge diamond member hilto...</td>\n",
       "      <td>2</td>\n",
       "    </tr>\n",
       "    <tr>\n",
       "      <th>1</th>\n",
       "      <td>hotel stayed hotel monaco cruise, rooms genero...</td>\n",
       "      <td>5</td>\n",
       "    </tr>\n",
       "    <tr>\n",
       "      <th>2</th>\n",
       "      <td>boutique charmer great location wife recently ...</td>\n",
       "      <td>5</td>\n",
       "    </tr>\n",
       "    <tr>\n",
       "      <th>3</th>\n",
       "      <td>loved inn husband wanted romantic away night, ...</td>\n",
       "      <td>5</td>\n",
       "    </tr>\n",
       "    <tr>\n",
       "      <th>4</th>\n",
       "      <td>pay location location perfect walking distance...</td>\n",
       "      <td>3</td>\n",
       "    </tr>\n",
       "  </tbody>\n",
       "</table>\n",
       "</div>"
      ],
      "text/plain": [
       "                                              Review  Rating\n",
       "0  ok nothing special charge diamond member hilto...       2\n",
       "1  hotel stayed hotel monaco cruise, rooms genero...       5\n",
       "2  boutique charmer great location wife recently ...       5\n",
       "3  loved inn husband wanted romantic away night, ...       5\n",
       "4  pay location location perfect walking distance...       3"
      ]
     },
     "execution_count": 12,
     "metadata": {},
     "output_type": "execute_result"
    }
   ],
   "source": [
    "from src import data_store\n",
    "from src.data_store import bootstrap_from_csv, query_df\n",
    "\n",
    "# Standard-DB-Pfad im Modul auf die absolute Datei setzen\n",
    "data_store.DEFAULT_DB = str(DB_PATH)\n",
    "\n",
    "# DB/Tabelle erstellen, falls nötig\n",
    "if not DB_PATH.exists():\n",
    "    assert CSV_PATH.exists(), \"❌ CSV fehlt: data/tripadvisor_hotel_reviews.csv\"\n",
    "    bootstrap_from_csv(str(CSV_PATH), db_path=str(DB_PATH), overwrite=True)\n",
    "else:\n",
    "    try:\n",
    "        query_df(\"SELECT 1 FROM reviews LIMIT 1\", db_path=str(DB_PATH))\n",
    "    except Exception:\n",
    "        # Tabelle fehlt -> aus CSV neu aufbauen\n",
    "        bootstrap_from_csv(str(CSV_PATH), db_path=str(DB_PATH), overwrite=True)\n",
    "\n",
    "# Vorschau aus DuckDB\n",
    "query_df(\"SELECT * FROM reviews LIMIT 5\", db_path=str(DB_PATH))\n"
   ]
  },
  {
   "cell_type": "code",
   "execution_count": 13,
   "id": "31d3c164-3c6c-41d3-a15e-2f13ee90629a",
   "metadata": {},
   "outputs": [
    {
     "data": {
      "text/html": [
       "<div>\n",
       "<style scoped>\n",
       "    .dataframe tbody tr th:only-of-type {\n",
       "        vertical-align: middle;\n",
       "    }\n",
       "\n",
       "    .dataframe tbody tr th {\n",
       "        vertical-align: top;\n",
       "    }\n",
       "\n",
       "    .dataframe thead th {\n",
       "        text-align: right;\n",
       "    }\n",
       "</style>\n",
       "<table border=\"1\" class=\"dataframe\">\n",
       "  <thead>\n",
       "    <tr style=\"text-align: right;\">\n",
       "      <th></th>\n",
       "      <th>Review</th>\n",
       "      <th>Rating</th>\n",
       "    </tr>\n",
       "  </thead>\n",
       "  <tbody>\n",
       "    <tr>\n",
       "      <th>0</th>\n",
       "      <td>ok nothing special charge diamond member hilto...</td>\n",
       "      <td>2</td>\n",
       "    </tr>\n",
       "    <tr>\n",
       "      <th>1</th>\n",
       "      <td>hotel stayed hotel monaco cruise, rooms genero...</td>\n",
       "      <td>5</td>\n",
       "    </tr>\n",
       "    <tr>\n",
       "      <th>2</th>\n",
       "      <td>boutique charmer great location wife recently ...</td>\n",
       "      <td>5</td>\n",
       "    </tr>\n",
       "    <tr>\n",
       "      <th>3</th>\n",
       "      <td>loved inn husband wanted romantic away night, ...</td>\n",
       "      <td>5</td>\n",
       "    </tr>\n",
       "    <tr>\n",
       "      <th>4</th>\n",
       "      <td>pay location location perfect walking distance...</td>\n",
       "      <td>3</td>\n",
       "    </tr>\n",
       "  </tbody>\n",
       "</table>\n",
       "</div>"
      ],
      "text/plain": [
       "                                              Review  Rating\n",
       "0  ok nothing special charge diamond member hilto...       2\n",
       "1  hotel stayed hotel monaco cruise, rooms genero...       5\n",
       "2  boutique charmer great location wife recently ...       5\n",
       "3  loved inn husband wanted romantic away night, ...       5\n",
       "4  pay location location perfect walking distance...       3"
      ]
     },
     "execution_count": 13,
     "metadata": {},
     "output_type": "execute_result"
    }
   ],
   "source": [
    "from src.data_store import get_text_and_rating\n",
    "df_raw = get_text_and_rating(db_path=str(DB_PATH))\n",
    "df_raw.head()\n"
   ]
  },
  {
   "cell_type": "code",
   "execution_count": 14,
   "id": "e069f995-0c95-4ebd-9ff1-bc63c4127096",
   "metadata": {},
   "outputs": [],
   "source": [
    "import nltk, ssl\n",
    "try:\n",
    "    ssl._create_default_https_context = ssl._create_unverified_context\n",
    "except Exception:\n",
    "    pass\n",
    "\n",
    "try:\n",
    "    nltk.data.find(\"tokenizers/punkt\")\n",
    "except LookupError:\n",
    "    nltk.download(\"punkt\")\n",
    "\n",
    "try:\n",
    "    nltk.corpus.stopwords.words(\"english\")\n",
    "except LookupError:\n",
    "    nltk.download(\"stopwords\")\n"
   ]
  },
  {
   "cell_type": "code",
   "execution_count": 15,
   "id": "11d9dcac-8074-4987-87a6-5ccdb7fa1101",
   "metadata": {},
   "outputs": [
    {
     "data": {
      "text/html": [
       "<div>\n",
       "<style scoped>\n",
       "    .dataframe tbody tr th:only-of-type {\n",
       "        vertical-align: middle;\n",
       "    }\n",
       "\n",
       "    .dataframe tbody tr th {\n",
       "        vertical-align: top;\n",
       "    }\n",
       "\n",
       "    .dataframe thead th {\n",
       "        text-align: right;\n",
       "    }\n",
       "</style>\n",
       "<table border=\"1\" class=\"dataframe\">\n",
       "  <thead>\n",
       "    <tr style=\"text-align: right;\">\n",
       "      <th></th>\n",
       "      <th>clean_review</th>\n",
       "    </tr>\n",
       "  </thead>\n",
       "  <tbody>\n",
       "    <tr>\n",
       "      <th>0</th>\n",
       "      <td>nothing special charge diamond member hilton d...</td>\n",
       "    </tr>\n",
       "    <tr>\n",
       "      <th>1</th>\n",
       "      <td>hotel stayed hotel monaco cruise rooms generou...</td>\n",
       "    </tr>\n",
       "    <tr>\n",
       "      <th>2</th>\n",
       "      <td>boutique charmer great location wife recently ...</td>\n",
       "    </tr>\n",
       "    <tr>\n",
       "      <th>3</th>\n",
       "      <td>loved inn husband wanted romantic away night i...</td>\n",
       "    </tr>\n",
       "    <tr>\n",
       "      <th>4</th>\n",
       "      <td>pay location location perfect walking distance...</td>\n",
       "    </tr>\n",
       "  </tbody>\n",
       "</table>\n",
       "</div>"
      ],
      "text/plain": [
       "                                        clean_review\n",
       "0  nothing special charge diamond member hilton d...\n",
       "1  hotel stayed hotel monaco cruise rooms generou...\n",
       "2  boutique charmer great location wife recently ...\n",
       "3  loved inn husband wanted romantic away night i...\n",
       "4  pay location location perfect walking distance..."
      ]
     },
     "execution_count": 15,
     "metadata": {},
     "output_type": "execute_result"
    }
   ],
   "source": [
    "import re\n",
    "from src.preprocessing import clean_text\n",
    "\n",
    "def clean_text_safe(text: str) -> str:\n",
    "    # nutzt clean_text; fällt bei fehlenden NLTK-Ressourcen auf simple Split-Variante zurück\n",
    "    try:\n",
    "        return clean_text(text)\n",
    "    except LookupError:\n",
    "        s = str(text).lower()\n",
    "        s = re.sub(r\"[^a-zäöüß\\\\s]\", \" \", s)\n",
    "        toks = [w for w in s.split() if w.isalpha() and len(w) > 2]\n",
    "        return \" \".join(toks)\n",
    "\n",
    "df = df_raw.copy()\n",
    "text_col = df.columns[0]  # meist 'Review'; notfalls hier explizit setzen\n",
    "df[\"clean_review\"] = df[text_col].astype(str).apply(clean_text_safe)\n",
    "df = df.dropna(subset=[\"clean_review\"]).drop_duplicates()\n",
    "df[[\"clean_review\"]].head()\n"
   ]
  },
  {
   "cell_type": "code",
   "execution_count": 16,
   "id": "2237b839-2add-4983-aebc-a1848eb5c7f8",
   "metadata": {},
   "outputs": [
    {
     "name": "stdout",
     "output_type": "stream",
     "text": [
      "BoW   shape: (20491, 5000) sparsity: 0.9855\n",
      "TF-IDF shape: (20491, 5000) sparsity: 0.9855\n"
     ]
    }
   ],
   "source": [
    "from src.topic_models import build_bow, build_tfidf\n",
    "\n",
    "X_bow,  cv = build_bow(df[\"clean_review\"].tolist(),   max_features=5000, min_df=5)\n",
    "X_tfidf, tv = build_tfidf(df[\"clean_review\"].tolist(), max_features=5000, min_df=5)\n",
    "\n",
    "def sparsity(X): \n",
    "    return 1 - (X.nnz / (X.shape[0]*X.shape[1]))\n",
    "\n",
    "print(\"BoW   shape:\", X_bow.shape,   \"sparsity:\", round(sparsity(X_bow), 4))\n",
    "print(\"TF-IDF shape:\", X_tfidf.shape, \"sparsity:\", round(sparsity(X_tfidf), 4))\n"
   ]
  },
  {
   "cell_type": "code",
   "execution_count": 17,
   "id": "11848b80-d0c5-4177-95ee-dc3c69ae9da8",
   "metadata": {},
   "outputs": [
    {
     "name": "stdout",
     "output_type": "stream",
     "text": [
      "LDA k=5:\n",
      "1 ['hotel', 'room', 'good', 'not', 'breakfast', 'nice', 'bathroom', 'location', 'great', 'small']\n",
      "2 ['beach', 'not', 'resort', 'food', 'great', 'pool', 'good', 'did', 'just', 'time']\n",
      "3 ['hotel', 'great', 'room', 'stay', 'location', 'nice', 'not', 'staff', 'stayed', 'rooms']\n",
      "4 ['not', 'room', 'hotel', 'did', 'night', 'desk', 'service', 'stay', 'told', 'day']\n",
      "5 ['hotel', 'staff', 'great', 'stay', 'room', 'location', 'stayed', 'excellent', 'helpful', 'rooms']\n",
      "\\nNMF k=5:\n",
      "1 ['not', 'hotel', 'did', 'service', 'room', 'told', 'desk', 'like', 'stay', 'time']\n",
      "2 ['resort', 'beach', 'food', 'pool', 'good', 'people', 'beautiful', 'time', 'water', 'day']\n",
      "3 ['great', 'location', 'stay', 'staff', 'place', 'friendly', 'helpful', 'wonderful', 'hotel', 'rooms']\n",
      "4 ['hotel', 'good', 'excellent', 'walk', 'station', 'location', 'breakfast', 'city', 'clean', 'staff']\n",
      "5 ['room', 'nice', 'bed', 'bathroom', 'floor', 'small', 'view', 'night', 'breakfast', 'good']\n"
     ]
    }
   ],
   "source": [
    "\n",
    "from src.topic_models import train_lda_bow, train_nmf_tfidf, top_words_per_topic\n",
    "\n",
    "lda5 = train_lda_bow(X_bow, 5)\n",
    "nmf5 = train_nmf_tfidf(X_tfidf, 5)\n",
    "\n",
    "print(\"LDA k=5:\")\n",
    "for i, w in enumerate(top_words_per_topic(lda5, cv.get_feature_names_out(), 10), 1):\n",
    "    print(i, w)\n",
    "\n",
    "print(\"\\\\nNMF k=5:\")\n",
    "for i, w in enumerate(top_words_per_topic(nmf5, tv.get_feature_names_out(), 10), 1):\n",
    "    print(i, w)\n"
   ]
  },
  {
   "cell_type": "code",
   "execution_count": 18,
   "id": "a150acff-4675-422f-bacc-c971c97ab51f",
   "metadata": {},
   "outputs": [
    {
     "name": "stdout",
     "output_type": "stream",
     "text": [
      "Bestes k – LDA: 5 c_v: 0.438\n",
      "Bestes k – NMF: 10 c_v: 0.483\n"
     ]
    },
    {
     "data": {
      "image/png": "[encoded data removed]",
      "text/plain": [
       "<Figure size 640x480 with 1 Axes>"
      ]
     },
     "metadata": {},
     "output_type": "display_data"
    }
   ],
   "source": [
    "from src.topic_models import grid_coherence_lda, grid_coherence_nmf\n",
    "import matplotlib.pyplot as plt\n",
    "\n",
    "tokenized = [s.split() for s in df[\"clean_review\"].tolist()]\n",
    "k_list = list(range(3, 11))  # bei Bedarf anpassen\n",
    "\n",
    "coh_lda = grid_coherence_lda(df[\"clean_review\"].tolist(), tokenized, k_list)\n",
    "coh_nmf = grid_coherence_nmf(df[\"clean_review\"].tolist(), tokenized, k_list)\n",
    "\n",
    "best_k_lda = max(coh_lda, key=coh_lda.get)\n",
    "best_k_nmf = max(coh_nmf, key=coh_nmf.get)\n",
    "print(\"Bestes k – LDA:\", best_k_lda, \"c_v:\", round(coh_lda[best_k_lda], 3))\n",
    "print(\"Bestes k – NMF:\", best_k_nmf, \"c_v:\", round(coh_nmf[best_k_nmf], 3))\n",
    "\n",
    "plt.figure()\n",
    "plt.plot(list(coh_lda.keys()), list(coh_lda.values()), marker=\"o\", label=\"LDA\")\n",
    "plt.plot(list(coh_nmf.keys()), list(coh_nmf.values()), marker=\"o\", label=\"NMF\")\n",
    "plt.xlabel(\"Anzahl Themen (k)\"); plt.ylabel(\"Coherence c_v\"); plt.title(\"Coherence vs. k\")\n",
    "plt.legend(); plt.tight_layout()\n",
    "plt.savefig(str(REPORTS / \"coherence_vs_k.pdf\")); plt.show()\n"
   ]
  },
  {
   "cell_type": "code",
   "execution_count": 19,
   "id": "2b9df94a-33e2-4bcb-8022-a4d041cec7b5",
   "metadata": {},
   "outputs": [
    {
     "name": "stdout",
     "output_type": "stream",
     "text": [
      "Gespeichert:\n",
      " - C:\\Users\\FJU\\Desktop\\FJ\\UNI\\Data Analysis\\Junius-Fiona_ProjektDataAnalysis_P1_repo_duckdb\\Junius-Fiona_32111962_ProjektDataAnalysis_P1\\reports\\coherence_vs_k.pdf\n",
      " - C:\\Users\\FJU\\Desktop\\FJ\\UNI\\Data Analysis\\Junius-Fiona_ProjektDataAnalysis_P1_repo_duckdb\\Junius-Fiona_32111962_ProjektDataAnalysis_P1\\reports\\topics_lda.csv\n",
      " - C:\\Users\\FJU\\Desktop\\FJ\\UNI\\Data Analysis\\Junius-Fiona_ProjektDataAnalysis_P1_repo_duckdb\\Junius-Fiona_32111962_ProjektDataAnalysis_P1\\reports\\topics_nmf.csv\n"
     ]
    }
   ],
   "source": [
    "import pandas as pd\n",
    "from src.topic_models import train_lda_bow, train_nmf_tfidf, top_words_per_topic\n",
    "\n",
    "lda_best = train_lda_bow(X_bow, best_k_lda)\n",
    "nmf_best = train_nmf_tfidf(X_tfidf, best_k_nmf)\n",
    "\n",
    "lda_topics = top_words_per_topic(lda_best, cv.get_feature_names_out(), 12)\n",
    "nmf_topics = top_words_per_topic(nmf_best, tv.get_feature_names_out(), 12)\n",
    "\n",
    "pd.DataFrame(lda_topics).to_csv(REPORTS / \"topics_lda.csv\", index=False, header=False)\n",
    "pd.DataFrame(nmf_topics).to_csv(REPORTS / \"topics_nmf.csv\", index=False, header=False)\n",
    "\n",
    "print(\"Gespeichert:\")\n",
    "print(\" -\", REPORTS / \"coherence_vs_k.pdf\")\n",
    "print(\" -\", REPORTS / \"topics_lda.csv\")\n",
    "print(\" -\", REPORTS / \"topics_nmf.csv\")\n"
   ]
  },
  {
   "cell_type": "code",
   "execution_count": 20,
   "id": "476da2ae-2a5b-4b8f-93e9-3447b73a0ef9",
   "metadata": {},
   "outputs": [
    {
     "name": "stdout",
     "output_type": "stream",
     "text": [
      "LDA Labels: [(1, 'Sauberkeit'), (2, 'Sonstiges'), (3, 'Sauberkeit'), (4, 'Personal/Service'), (5, 'Personal/Service')]\n",
      "NMF Labels: [(1, 'Sonstiges'), (2, 'Sonstiges'), (3, 'Sauberkeit'), (4, 'Sauberkeit'), (5, 'Sauberkeit'), (6, 'Personal/Service'), (7, 'Personal/Service'), (8, 'Sauberkeit'), (9, 'Sauberkeit'), (10, 'Sonstiges')]\n"
     ]
    }
   ],
   "source": [
    "def label_topic(words):\n",
    "    joined = \" \".join(words)\n",
    "    if any(w in joined for w in [\"clean\",\"dirty\",\"smell\",\"bathroom\",\"housekeeping\",\"sauber\"]): return \"Sauberkeit\"\n",
    "    if any(w in joined for w in [\"staff\",\"service\",\"friendly\",\"helpful\",\"personal\"]):         return \"Personal/Service\"\n",
    "    if any(w in joined for w in [\"location\",\"walk\",\"station\",\"distance\",\"lage\"]):            return \"Lage/Anbindung\"\n",
    "    if any(w in joined for w in [\"price\",\"value\",\"expensive\",\"cheap\",\"preis\"]):              return \"Preis-Leistung\"\n",
    "    if any(w in joined for w in [\"room\",\"bed\",\"noise\",\"quiet\",\"size\",\"zimmer\"]):             return \"Zimmer/Komfort\"\n",
    "    return \"Sonstiges\"\n",
    "\n",
    "labels_lda = [label_topic(t) for t in lda_topics]\n",
    "labels_nmf = [label_topic(t) for t in nmf_topics]\n",
    "print(\"LDA Labels:\", list(enumerate(labels_lda, 1)))\n",
    "print(\"NMF Labels:\", list(enumerate(labels_nmf, 1)))\n"
   ]
  },
  {
   "cell_type": "code",
   "execution_count": null,
   "id": "b6682162-4e97-4185-a5d2-af73e199027f",
   "metadata": {},
   "outputs": [],
   "source": []
  }
 ],
 "metadata": {
  "kernelspec": {
   "display_name": "Python 3 (ipykernel)",
   "language": "python",
   "name": "python3"
  },
  "language_info": {
   "codemirror_mode": {
    "name": "ipython",
    "version": 3
   },
   "file_extension": ".py",
   "mimetype": "text/x-python",
   "name": "python",
   "nbconvert_exporter": "python",
   "pygments_lexer": "ipython3",
   "version": "3.11.2"
  }
 },
 "nbformat": 4,
 "nbformat_minor": 5
}
